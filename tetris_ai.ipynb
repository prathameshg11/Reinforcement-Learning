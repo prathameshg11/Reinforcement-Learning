{
 "cells": [
  {
   "cell_type": "code",
   "execution_count": 1,
   "id": "9d65a2c4",
   "metadata": {},
   "outputs": [],
   "source": [
    "import gym\n",
    "import numpy as np\n",
    "import pandas as pd\n",
    "import time\n",
    "import os\n",
    "import cv2\n",
    "import copy\n",
    "import matplotlib.pyplot as plt\n",
    "import matplotlib.animation\n",
    "from IPython.display import display, HTML\n",
    "from stable_baselines3 import PPO\n",
    "from stable_baselines3.common.callbacks import BaseCallback\n",
    "from stable_baselines3.common.monitor import Monitor\n",
    "from stable_baselines3.common.evaluation import evaluate_policy\n",
    "from gym.wrappers import GrayScaleObservation\n",
    "from stable_baselines3.common.vec_env import VecFrameStack, DummyVecEnv\n",
    "import gym_tetris\n",
    "from nes_py.wrappers import JoypadSpace\n",
    "from gym_tetris.actions import SIMPLE_MOVEMENT"
   ]
  },
  {
   "cell_type": "code",
   "execution_count": 2,
   "id": "92684233",
   "metadata": {},
   "outputs": [],
   "source": [
    "from gym import Env\n",
    "from gym.spaces import Discrete, Box"
   ]
  },
  {
   "cell_type": "code",
   "execution_count": 3,
   "id": "902430d6",
   "metadata": {},
   "outputs": [],
   "source": [
    "class tetrisGame(Env):\n",
    "    def __init__(self):\n",
    "        super().__init__()\n",
    "        self.observation_space = Box(low=0, high=255, shape=(240, 120, 1), dtype=np.uint8)\n",
    "        self.action_space = Discrete(4)\n",
    "        \n",
    "        self.game = gym_tetris.make('TetrisA-v3')\n",
    "        self.game = JoypadSpace(self.game, [['A'], ['B'], ['right'], ['left']])\n",
    "    def step(self, action):\n",
    "        obs, reward, done, info = self.game.step(action)\n",
    "        obs = self.preprocess(obs)\n",
    "        d = info['statistics']\n",
    "        curr_pieces = 0\n",
    "        for i in d.values():\n",
    "            curr_pieces += i\n",
    "        prize = curr_pieces-self.n_pieces\n",
    "        self.n_pieces = curr_pieces\n",
    "        reward += prize\n",
    "        \n",
    "        if(done):\n",
    "            reward -= 5\n",
    "        \n",
    "        return obs, reward, done, info\n",
    "    def render(self, *args, **kwargs):\n",
    "        return self.game.render(*args, **kwargs)\n",
    "    def reset(self):\n",
    "        obs = self.game.reset()\n",
    "        obs = self.preprocess(obs)\n",
    "        self.n_pieces = 0\n",
    "        return obs\n",
    "    def preprocess(self, observation):\n",
    "        grey = cv2.cvtColor(observation, cv2.COLOR_BGR2GRAY)\n",
    "        grey = np.reshape(grey, (240, 256, 1))\n",
    "        croped = grey[:, 80:200, :]\n",
    "        return croped\n",
    "    def close(self):\n",
    "        self.game.close()"
   ]
  },
  {
   "cell_type": "code",
   "execution_count": 4,
   "id": "9e03e676",
   "metadata": {},
   "outputs": [],
   "source": [
    "CHECK_FREQ_NUMB = 10000\n",
    "TOTAL_TIMESTEP_NUMB = 100000\n",
    "LEARNING_RATE = 0.00001\n",
    "N_STEPS = 1024\n",
    "GAMMA = 0.9\n",
    "BATCH_SIZE = 64\n",
    "N_EPOCHS = 10\n",
    "DOWN_SAMPLE_RATE = 2\n",
    "SKIP_NUMB = 2\n",
    "EPISODE_NUMBERS = 10"
   ]
  },
  {
   "cell_type": "code",
   "execution_count": 5,
   "id": "79bedd64",
   "metadata": {},
   "outputs": [],
   "source": [
    "CHECKPOINT_DIR = './train/'\n",
    "LOG_DIR = './logs/'"
   ]
  },
  {
   "cell_type": "code",
   "execution_count": 6,
   "id": "03e95cf6",
   "metadata": {},
   "outputs": [],
   "source": [
    "env = tetrisGame()\n",
    "# env = Monitor(env, filename=LOG_DIR)\n",
    "# env = DummyVecEnv([lambda: env])"
   ]
  },
  {
   "cell_type": "code",
   "execution_count": null,
   "id": "01abf2ae",
   "metadata": {},
   "outputs": [],
   "source": [
    "class SkipFrame(gym.Wrapper):\n",
    "    def __init__(self, env, skip):\n",
    "        super().__init__(env)\n",
    "        self._skip = skip\n",
    "\n",
    "    def step(self, action):\n",
    "        for i in range(self._skip):\n",
    "            obs, reward, done, info = self.env.step(action)\n",
    "            if done:\n",
    "                break\n",
    "        return obs, reward, done, info\n",
    "    \n",
    "class Downsample(gym.ObservationWrapper):\n",
    "    def __init__(self, env, ratio):\n",
    "        \"\"\"\n",
    "        Downsample images by a factor of ratio\n",
    "        \"\"\"\n",
    "        gym.ObservationWrapper.__init__(self, env)\n",
    "        (oldh, oldw, oldc) = env.observation_space.shape\n",
    "        newshape = (oldh//ratio, oldw//ratio, oldc)\n",
    "        self.observation_space = gym.spaces.Box(low=0, high=255,\n",
    "            shape=newshape, dtype=np.uint8)\n",
    "\n",
    "    def observation(self, frame):\n",
    "        height, width, _ = self.observation_space.shape\n",
    "        frame = cv2.resize(frame, (width, height), interpolation=cv2.INTER_AREA)\n",
    "        if frame.ndim == 2:\n",
    "            frame = frame[:,:,None]\n",
    "        return frame\n",
    "    \n",
    "class Crop(gym.ObservationWrapper):\n",
    "    def __init__(self, env):\n",
    "        \"\"\"\n",
    "        Downsample images by a factor of ratio\n",
    "        \"\"\"\n",
    "        gym.ObservationWrapper.__init__(self, env)\n",
    "        (oldh, oldw, oldc) = env.observation_space.shape\n",
    "        newshape = (oldh, 120, oldc)\n",
    "        self.observation_space = gym.spaces.Box(low=0, high=255,\n",
    "            shape=newshape, dtype=np.uint8)\n",
    "    def observation(self, frame):\n",
    "        frame = frame[:, 80:200, :]\n",
    "        if frame.ndim == 2:\n",
    "            frame = frame[:,:,None]\n",
    "        return frame"
   ]
  },
  {
   "cell_type": "code",
   "execution_count": null,
   "id": "7140e724",
   "metadata": {},
   "outputs": [],
   "source": []
  },
  {
   "cell_type": "code",
   "execution_count": null,
   "id": "1f3cc775",
   "metadata": {},
   "outputs": [],
   "source": [
    "env = gym_tetris.make('TetrisA-v3')\n",
    "env = JoypadSpace(env, [['A'], ['B'], ['right'], ['left']])\n",
    "# env = Crop(env)\n",
    "# env = SkipFrame(env, 2)\n",
    "# env = Downsample(env, 2)"
   ]
  },
  {
   "cell_type": "code",
   "execution_count": null,
   "id": "0e669af4",
   "metadata": {},
   "outputs": [],
   "source": [
    "SIMPLE_MOVEMENT"
   ]
  },
  {
   "cell_type": "code",
   "execution_count": null,
   "id": "5f73624b",
   "metadata": {},
   "outputs": [],
   "source": [
    "state = env.reset()\n",
    "done = False\n",
    "info  = None\n",
    "frames = []\n",
    "while not done:\n",
    "    action = env.action_space.sample()\n",
    "    state, reward, done, info = env.step(action)\n",
    "    frames.append(copy.deepcopy(env.render(mode='rgb_array')))"
   ]
  },
  {
   "cell_type": "code",
   "execution_count": null,
   "id": "de85467c",
   "metadata": {},
   "outputs": [],
   "source": [
    "env = gym_tetris.make('TetrisA-v2')\n",
    "env = JoypadSpace(env, [['A'], ['B'], ['right'], ['left']])\n",
    "# env = SkipFrame(env, SKIP_NUMB)\n",
    "env = Crop(env)\n",
    "env = GrayScaleObservation(env, keep_dim=1)\n",
    "# env = Downsample(env, 2)\n",
    "env = DummyVecEnv([lambda: env])\n",
    "# env = VecFrameStack(env, 4, channels_order='last')"
   ]
  },
  {
   "cell_type": "code",
   "execution_count": null,
   "id": "e2246f84",
   "metadata": {
    "scrolled": true
   },
   "outputs": [],
   "source": [
    "env.observation_space.shape"
   ]
  },
  {
   "cell_type": "code",
   "execution_count": null,
   "id": "d795e9a1",
   "metadata": {},
   "outputs": [],
   "source": [
    "env.action_space"
   ]
  },
  {
   "cell_type": "code",
   "execution_count": 7,
   "id": "5484581c",
   "metadata": {},
   "outputs": [],
   "source": [
    "state = env.reset()"
   ]
  },
  {
   "cell_type": "code",
   "execution_count": null,
   "id": "63d307dd",
   "metadata": {},
   "outputs": [],
   "source": [
    "state.shape"
   ]
  },
  {
   "cell_type": "code",
   "execution_count": 57,
   "id": "ebc5b915",
   "metadata": {},
   "outputs": [],
   "source": [
    "state, reward, done, info = env.step(3)"
   ]
  },
  {
   "cell_type": "code",
   "execution_count": 58,
   "id": "7442e9dd",
   "metadata": {},
   "outputs": [
    {
     "name": "stdout",
     "output_type": "stream",
     "text": [
      "0.0\n",
      "{'current_piece': 'Sh', 'number_of_lines': 0, 'score': 0, 'next_piece': 'Ih', 'statistics': {'T': 0, 'J': 0, 'Z': 0, 'O': 0, 'S': 1, 'L': 0, 'I': 0}, 'board_height': 0}\n"
     ]
    }
   ],
   "source": [
    "print(reward)\n",
    "print(info)"
   ]
  },
  {
   "cell_type": "code",
   "execution_count": 59,
   "id": "b6c3e5fb",
   "metadata": {},
   "outputs": [
    {
     "data": {
      "text/plain": [
       "<matplotlib.image.AxesImage at 0x7efd8532d900>"
      ]
     },
     "execution_count": 59,
     "metadata": {},
     "output_type": "execute_result"
    },
    {
     "data": {
      "image/png": "[encoded data removed]",
      "text/plain": [
       "<Figure size 432x288 with 1 Axes>"
      ]
     },
     "metadata": {
      "needs_background": "light"
     },
     "output_type": "display_data"
    }
   ],
   "source": [
    "plt.imshow(state)"
   ]
  },
  {
   "cell_type": "code",
   "execution_count": null,
   "id": "fdb94aa2",
   "metadata": {},
   "outputs": [],
   "source": [
    "model = PPO('CnnPolicy', env, verbose=0, tensorboard_log=LOG_DIR, learning_rate=LEARNING_RATE, n_steps=N_STEPS,\n",
    "            batch_size=BATCH_SIZE, n_epochs=N_EPOCHS, gamma=GAMMA)"
   ]
  },
  {
   "cell_type": "code",
   "execution_count": null,
   "id": "38e5bd2f",
   "metadata": {},
   "outputs": [],
   "source": [
    "# PPO??"
   ]
  },
  {
   "cell_type": "code",
   "execution_count": null,
   "id": "00773597",
   "metadata": {},
   "outputs": [],
   "source": [
    "%%time\n",
    "model.learn(total_timesteps=TOTAL_TIMESTEP_NUMB)"
   ]
  },
  {
   "cell_type": "code",
   "execution_count": null,
   "id": "3530cffe",
   "metadata": {},
   "outputs": [],
   "source": [
    "model.save(path='./train/v2_200000')"
   ]
  },
  {
   "cell_type": "code",
   "execution_count": null,
   "id": "fe13b89d",
   "metadata": {},
   "outputs": [],
   "source": [
    "state = env.reset()\n",
    "done = False\n",
    "while not done:\n",
    "    action, _  = model.predict(state)\n",
    "    state, reward, done, info = env.step(action)\n",
    "    env.render()"
   ]
  },
  {
   "cell_type": "code",
   "execution_count": null,
   "id": "f5f57c71",
   "metadata": {},
   "outputs": [],
   "source": [
    "forvideo = PPO.load('./train/v2_200000')"
   ]
  },
  {
   "cell_type": "code",
   "execution_count": null,
   "id": "dd3c0793",
   "metadata": {},
   "outputs": [],
   "source": [
    "evaluate_policy(model, env, n_eval_episodes=EPISODE_NUMBERS, render=False)"
   ]
  },
  {
   "cell_type": "code",
   "execution_count": null,
   "id": "eaab157f",
   "metadata": {},
   "outputs": [],
   "source": [
    "total_reward = [0] * EPISODE_NUMBERS\n",
    "total_time = [0] * EPISODE_NUMBERS\n",
    "best_reward = -100\n",
    "frames_best = []\n",
    "\n",
    "for i in range(EPISODE_NUMBERS):\n",
    "    state = env.reset()  # reset for each new trial\n",
    "    done = False\n",
    "    total_reward[i] = 0\n",
    "    total_time[i] = 0\n",
    "    frames = []\n",
    "    while not done:\n",
    "        action, _ = forvideo.predict(state)\n",
    "        state, reward, done, info = env.step(action)\n",
    "        total_reward[i] += reward[0]\n",
    "        total_time[i] += 1\n",
    "#         frames.append(copy.deepcopy(env.render(mode='rgb_array')))\n",
    "\n",
    "    if total_reward[i] > best_reward:\n",
    "        best_reward = total_reward[i]\n",
    "#         frames_best = copy.deepcopy(frames)\n",
    "\n",
    "    print('test episode:', i, 'reward:', total_reward[i], 'time:', total_time[i])\n",
    "\n",
    "print('average reward:', (sum(total_reward) / EPISODE_NUMBERS),\n",
    "      'average time:', (sum(total_time) / EPISODE_NUMBERS),\n",
    "      'best_reward:', best_reward)"
   ]
  },
  {
   "cell_type": "code",
   "execution_count": null,
   "id": "01c3e647",
   "metadata": {},
   "outputs": [],
   "source": [
    "frames_new = np.array(frames_best)\n",
    "matplotlib.rcParams['animation.embed_limit'] = 2**128\n",
    "plt.figure(figsize=(frames[0].shape[1] / 72.0, frames[0].shape[0] / 72.0), dpi = 72)\n",
    "patch = plt.imshow(frames_new[0])\n",
    "plt.axis('off')\n",
    "animate = lambda i: patch.set_data(frames_new[i])\n",
    "ani = matplotlib.animation.FuncAnimation(plt.gcf(), animate, frames=len(frames_new), interval = 50)\n",
    "display(HTML(ani.to_jshtml()))\n",
    "plt.close()"
   ]
  },
  {
   "cell_type": "code",
   "execution_count": 9,
   "id": "fdf72e78",
   "metadata": {},
   "outputs": [
    {
     "name": "stdout",
     "output_type": "stream",
     "text": [
      "1.0\n",
      "0.0\n",
      "0.0\n",
      "0.0\n",
      "0.0\n",
      "0.0\n",
      "0.0\n",
      "0.0\n",
      "0.0\n",
      "0.0\n",
      "0.0\n",
      "0.0\n",
      "0.0\n",
      "0.0\n",
      "0.0\n",
      "0.0\n",
      "0.0\n",
      "0.0\n",
      "0.0\n",
      "0.0\n",
      "0.0\n",
      "0.0\n",
      "0.0\n",
      "0.0\n",
      "0.0\n",
      "0.0\n",
      "0.0\n",
      "0.0\n",
      "0.0\n",
      "0.0\n",
      "0.0\n",
      "0.0\n",
      "0.0\n",
      "0.0\n",
      "0.0\n",
      "0.0\n",
      "0.0\n",
      "0.0\n",
      "0.0\n",
      "0.0\n",
      "0.0\n",
      "0.0\n",
      "0.0\n",
      "0.0\n",
      "0.0\n",
      "0.0\n",
      "0.0\n",
      "0.0\n",
      "0.0\n",
      "0.0\n",
      "0.0\n",
      "0.0\n",
      "0.0\n",
      "0.0\n",
      "0.0\n",
      "0.0\n",
      "0.0\n",
      "0.0\n",
      "0.0\n",
      "0.0\n",
      "0.0\n",
      "0.0\n",
      "0.0\n",
      "0.0\n",
      "0.0\n",
      "0.0\n",
      "0.0\n",
      "0.0\n",
      "0.0\n",
      "0.0\n",
      "0.0\n",
      "0.0\n",
      "0.0\n",
      "0.0\n",
      "0.0\n",
      "0.0\n",
      "0.0\n",
      "0.0\n",
      "0.0\n",
      "0.0\n",
      "0.0\n",
      "0.0\n",
      "0.0\n",
      "0.0\n",
      "0.0\n",
      "0.0\n",
      "0.0\n",
      "0.0\n",
      "0.0\n",
      "0.0\n",
      "0.0\n",
      "0.0\n",
      "0.0\n",
      "0.0\n",
      "0.0\n",
      "0.0\n",
      "0.0\n",
      "0.0\n",
      "0.0\n",
      "0.0\n",
      "0.0\n",
      "0.0\n",
      "0.0\n",
      "0.0\n",
      "0.0\n",
      "0.0\n",
      "0.0\n",
      "0.0\n",
      "0.0\n",
      "0.0\n",
      "0.0\n",
      "0.0\n",
      "0.0\n",
      "0.0\n",
      "0.0\n",
      "0.0\n",
      "0.0\n",
      "0.0\n",
      "0.0\n",
      "0.0\n",
      "0.0\n",
      "0.0\n",
      "0.0\n",
      "0.0\n",
      "0.0\n",
      "0.0\n",
      "0.0\n",
      "0.0\n",
      "0.0\n",
      "0.0\n",
      "0.0\n",
      "0.0\n",
      "0.0\n",
      "0.0\n",
      "0.0\n",
      "0.0\n",
      "0.0\n",
      "0.0\n",
      "0.0\n",
      "0.0\n",
      "0.0\n",
      "0.0\n",
      "0.0\n",
      "0.0\n",
      "0.0\n",
      "0.0\n",
      "0.0\n",
      "0.0\n",
      "0.0\n",
      "0.0\n",
      "0.0\n",
      "0.0\n"
     ]
    },
    {
     "ename": "KeyboardInterrupt",
     "evalue": "",
     "output_type": "error",
     "traceback": [
      "\u001b[0;31m---------------------------------------------------------------------------\u001b[0m",
      "\u001b[0;31mKeyboardInterrupt\u001b[0m                         Traceback (most recent call last)",
      "Input \u001b[0;32mIn [9]\u001b[0m, in \u001b[0;36m<cell line: 4>\u001b[0;34m()\u001b[0m\n\u001b[1;32m      6\u001b[0m state, reward, done, info \u001b[38;5;241m=\u001b[39m env\u001b[38;5;241m.\u001b[39mstep(env\u001b[38;5;241m.\u001b[39maction_space\u001b[38;5;241m.\u001b[39msample())\n\u001b[1;32m      7\u001b[0m \u001b[38;5;28mprint\u001b[39m(reward)\n\u001b[0;32m----> 8\u001b[0m \u001b[43mtime\u001b[49m\u001b[38;5;241;43m.\u001b[39;49m\u001b[43msleep\u001b[49m\u001b[43m(\u001b[49m\u001b[38;5;241;43m0.5\u001b[39;49m\u001b[43m)\u001b[49m\n\u001b[1;32m      9\u001b[0m env\u001b[38;5;241m.\u001b[39mrender()\n",
      "\u001b[0;31mKeyboardInterrupt\u001b[0m: "
     ]
    }
   ],
   "source": [
    "state = env.reset()\n",
    "done = False\n",
    "score = 0   \n",
    "while not done:\n",
    "#     action, _ = forvideo.predict(state)\n",
    "    state, reward, done, info = env.step(env.action_space.sample())\n",
    "    print(reward)\n",
    "    time.sleep(0.5)\n",
    "    env.render()"
   ]
  },
  {
   "cell_type": "code",
   "execution_count": null,
   "id": "a5fa114b",
   "metadata": {},
   "outputs": [],
   "source": [
    "score"
   ]
  },
  {
   "cell_type": "code",
   "execution_count": 10,
   "id": "8b9826d0",
   "metadata": {},
   "outputs": [],
   "source": [
    "env.close()"
   ]
  },
  {
   "cell_type": "code",
   "execution_count": null,
   "id": "d26df062",
   "metadata": {},
   "outputs": [],
   "source": []
  }
 ],
 "metadata": {
  "kernelspec": {
   "display_name": "Python 3 (ipykernel)",
   "language": "python",
   "name": "python3"
  },
  "language_info": {
   "codemirror_mode": {
    "name": "ipython",
    "version": 3
   },
   "file_extension": ".py",
   "mimetype": "text/x-python",
   "name": "python",
   "nbconvert_exporter": "python",
   "pygments_lexer": "ipython3",
   "version": "3.10.5"
  }
 },
 "nbformat": 4,
 "nbformat_minor": 5
}
