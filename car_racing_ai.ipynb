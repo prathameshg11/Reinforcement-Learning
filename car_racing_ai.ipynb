{
 "cells": [
  {
   "cell_type": "code",
   "execution_count": null,
   "id": "b5b840ce",
   "metadata": {},
   "outputs": [],
   "source": [
    "import gym\n",
    "import numpy as np\n",
    "import pandas as pd\n",
    "import os\n",
    "import cv2\n",
    "import copy\n",
    "import matplotlib.pyplot as plt\n",
    "import matplotlib.animation\n",
    "from IPython.display import display, HTML\n",
    "from stable_baselines3 import PPO\n",
    "from stable_baselines3.common.callbacks import BaseCallback\n",
    "from stable_baselines3.common.evaluation import evaluate_policy\n",
    "from stable_baselines3.common.monitor import Monitor\n",
    "from gym.wrappers import GrayScaleObservation\n",
    "from stable_baselines3.common.vec_env import VecFrameStack, DummyVecEnv"
   ]
  },
  {
   "cell_type": "code",
   "execution_count": null,
   "id": "c0483ec9",
   "metadata": {},
   "outputs": [],
   "source": [
    "CHECK_FREQ_NUMB = 10000\n",
    "TOTAL_TIMESTEP_NUMB = 100000\n",
    "LEARNING_RATE = 0.00005\n",
    "N_STEPS = 2048\n",
    "GAMMA = 0.9\n",
    "BATCH_SIZE = 64\n",
    "N_EPOCHS = 10\n",
    "DOWN_SAMPLE_RATE = 3\n",
    "SKIP_NUMB = 2\n",
    "EPISODE_NUMBERS = 10"
   ]
  },
  {
   "cell_type": "code",
   "execution_count": null,
   "id": "fb8ddc25",
   "metadata": {},
   "outputs": [],
   "source": [
    "CHECKPOINT_DIR = './train/'\n",
    "LOG_DIR = './logs/'"
   ]
  },
  {
   "cell_type": "code",
   "execution_count": null,
   "id": "59a4b071",
   "metadata": {},
   "outputs": [],
   "source": [
    "env = gym.make('CarRacing-v1')\n",
    "env = GrayScaleObservation(env, keep_dim=1)\n",
    "env = DummyVecEnv([lambda: env])\n",
    "env = VecFrameStack(env, 4, channels_order='last')"
   ]
  },
  {
   "cell_type": "code",
   "execution_count": null,
   "id": "d1b63670",
   "metadata": {},
   "outputs": [],
   "source": [
    "# state = env.reset()\n",
    "# n_step = 0;\n",
    "# done = False\n",
    "# while not done:\n",
    "#     action , _ = model.predict(state)\n",
    "#     state, reward, done, info = env.step(env.action_space.sample())\n",
    "#     n_step +=1\n",
    "#     env.render()"
   ]
  },
  {
   "cell_type": "code",
   "execution_count": null,
   "id": "193fef62",
   "metadata": {},
   "outputs": [],
   "source": [
    "model = PPO('CnnPolicy', env, verbose=0, tensorboard_log=LOG_DIR, learning_rate=LEARNING_RATE, n_steps=N_STEPS,\n",
    "            batch_size=BATCH_SIZE, n_epochs=N_EPOCHS, gamma=GAMMA)"
   ]
  },
  {
   "cell_type": "code",
   "execution_count": null,
   "id": "1a33fcc9",
   "metadata": {},
   "outputs": [],
   "source": [
    "%%time\n",
    "model.learn(total_timesteps=TOTAL_TIMESTEP_NUMB)"
   ]
  },
  {
   "cell_type": "code",
   "execution_count": null,
   "id": "2cc322b8",
   "metadata": {},
   "outputs": [],
   "source": [
    "model = PPO.load('./train/300000', env)"
   ]
  },
  {
   "cell_type": "code",
   "execution_count": null,
   "id": "0ed26329",
   "metadata": {},
   "outputs": [],
   "source": [
    "model.save(path='./train/400000')"
   ]
  },
  {
   "cell_type": "code",
   "execution_count": null,
   "id": "c5bd341a",
   "metadata": {},
   "outputs": [],
   "source": [
    "forvideo = PPO.load('./train/400000')"
   ]
  },
  {
   "cell_type": "code",
   "execution_count": null,
   "id": "cb6b1018",
   "metadata": {},
   "outputs": [],
   "source": [
    "total_reward = [0] * EPISODE_NUMBERS\n",
    "total_time = [0] * EPISODE_NUMBERS\n",
    "best_reward = 0\n",
    "frames_best = []\n",
    "\n",
    "for i in range(EPISODE_NUMBERS):\n",
    "    state = env.reset()  # reset for each new trial\n",
    "    done = False\n",
    "    total_reward[i] = 0\n",
    "    total_time[i] = 0\n",
    "    frames = []\n",
    "    while not done and total_time[i] < 10000:\n",
    "        action, _ = forvideo.predict(state)\n",
    "        state, reward, done, info = env.step(action)\n",
    "        total_reward[i] += reward[0]\n",
    "        total_time[i] += 1\n",
    "        frames.append(copy.deepcopy(env.render(mode='rgb_array')))\n",
    "\n",
    "    if total_reward[i] > best_reward:\n",
    "        best_reward = total_reward[i]\n",
    "        frames_best = copy.deepcopy(frames)\n",
    "\n",
    "    print('test episode:', i, 'reward:', total_reward[i], 'time:', total_time[i])\n",
    "\n",
    "print('average reward:', (sum(total_reward) / EPISODE_NUMBERS),\n",
    "      'average time:', (sum(total_time) / EPISODE_NUMBERS),\n",
    "      'best_reward:', best_reward)"
   ]
  },
  {
   "cell_type": "code",
   "execution_count": null,
   "id": "2d1d1f11",
   "metadata": {},
   "outputs": [],
   "source": [
    "frames_new = np.array(frames_best)\n",
    "matplotlib.rcParams['animation.embed_limit'] = 2**128\n",
    "plt.figure(figsize=(frames[0].shape[1] / 72.0, frames[0].shape[0] / 72.0), dpi = 72)\n",
    "patch = plt.imshow(frames_new[0])\n",
    "plt.axis('off')\n",
    "animate = lambda i: patch.set_data(frames_new[i])\n",
    "ani = matplotlib.animation.FuncAnimation(plt.gcf(), animate, frames=len(frames_new), interval = 50)\n",
    "display(HTML(ani.to_jshtml()))\n",
    "plt.close()"
   ]
  },
  {
   "cell_type": "code",
   "execution_count": null,
   "id": "b7bdd04a",
   "metadata": {},
   "outputs": [],
   "source": [
    "# evaluate_policy(model, env, n_eval_episodes=10, render=True)"
   ]
  }
 ],
 "metadata": {
  "kernelspec": {
   "display_name": "Python 3 (ipykernel)",
   "language": "python",
   "name": "python3"
  },
  "language_info": {
   "codemirror_mode": {
    "name": "ipython",
    "version": 3
   },
   "file_extension": ".py",
   "mimetype": "text/x-python",
   "name": "python",
   "nbconvert_exporter": "python",
   "pygments_lexer": "ipython3",
   "version": "3.10.5"
  }
 },
 "nbformat": 4,
 "nbformat_minor": 5
}
